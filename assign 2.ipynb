{
 "cells": [
  {
   "cell_type": "markdown",
   "id": "d393be6c",
   "metadata": {},
   "source": [
    "### 1. Write a program that swaps the values of two variables."
   ]
  },
  {
   "cell_type": "code",
   "execution_count": 1,
   "id": "cbcadea0",
   "metadata": {},
   "outputs": [
    {
     "name": "stdout",
     "output_type": "stream",
     "text": [
      "After swapping:\n",
      "Value of a: 10\n",
      "Value of b: 5\n"
     ]
    }
   ],
   "source": [
    "# Initial values\n",
    "a = 5\n",
    "b = 10\n",
    "\n",
    "# Swapping values\n",
    "a, b = b, a\n",
    "\n",
    "# Display the swapped values\n",
    "print(\"After swapping:\")\n",
    "print(\"Value of a:\", a)\n",
    "print(\"Value of b:\", b)\n"
   ]
  },
  {
   "cell_type": "markdown",
   "id": "ae6df9df",
   "metadata": {},
   "source": [
    "### 2. Write a program that calculates the area of a rectangle given its length and width."
   ]
  },
  {
   "cell_type": "code",
   "execution_count": 2,
   "id": "9e6272b0",
   "metadata": {},
   "outputs": [
    {
     "name": "stdout",
     "output_type": "stream",
     "text": [
      "Enter the length of the rectangle: 2.5\n",
      "Enter the width of the rectangle: 3.5\n",
      "The area of the rectangle is: 8.75\n"
     ]
    }
   ],
   "source": [
    "# Prompt the user to enter the length and width \n",
    "length = float(input(\"Enter the length of the rectangle: \"))\n",
    "width = float(input(\"Enter the width of the rectangle: \"))\n",
    "\n",
    "# Calculate the area of the rectangle\n",
    "area = length * width\n",
    "\n",
    "# Display the area\n",
    "print(\"The area of the rectangle is:\", area)\n"
   ]
  },
  {
   "cell_type": "markdown",
   "id": "fa6d04ac",
   "metadata": {},
   "source": [
    "### 3. Write a program that converts temperature from Fahrenheit to Celsius."
   ]
  },
  {
   "cell_type": "code",
   "execution_count": 3,
   "id": "074a4b04",
   "metadata": {},
   "outputs": [
    {
     "name": "stdout",
     "output_type": "stream",
     "text": [
      "Enter temperature in Fahrenheit: 89\n",
      "89.0 Fahrenheit is equivalent to 31.666666666666668 Celsius.\n"
     ]
    }
   ],
   "source": [
    "# Prompt the user to enter a temperature in Fahrenheit\n",
    "fahrenheit = float(input(\"Enter temperature in Fahrenheit: \"))\n",
    "\n",
    "# Convert the temperature to Celsius\n",
    "celsius = (fahrenheit - 32) * 5/9\n",
    "\n",
    "# Display the temperature in Celsius\n",
    "print(f\"{fahrenheit} Fahrenheit is equivalent to {celsius} Celsius.\")\n"
   ]
  },
  {
   "cell_type": "markdown",
   "id": "3382176b",
   "metadata": {},
   "source": [
    "### 4. Write a program that calculates the volume of a sphere given its radius."
   ]
  },
  {
   "cell_type": "code",
   "execution_count": 5,
   "id": "acb87377",
   "metadata": {},
   "outputs": [
    {
     "name": "stdout",
     "output_type": "stream",
     "text": [
      "Enter the radius of the sphere: 2.3\n",
      "The volume of the sphere with radius 2.3 is 50.965010421636.\n"
     ]
    }
   ],
   "source": [
    "import math\n",
    "\n",
    "# Prompt the user to enter the radius of the sphere\n",
    "radius = float(input(\"Enter the radius of the sphere: \"))\n",
    "\n",
    "# Calculate the volume of the sphere\n",
    "volume = (4/3) * math.pi * radius ** 3\n",
    "\n",
    "# Display the volume\n",
    "print(f\"The volume of the sphere with radius {radius} is {volume}.\")\n"
   ]
  },
  {
   "cell_type": "code",
   "execution_count": null,
   "id": "be965af4",
   "metadata": {},
   "outputs": [],
   "source": []
  }
 ],
 "metadata": {
  "kernelspec": {
   "display_name": "Python 3 (ipykernel)",
   "language": "python",
   "name": "python3"
  },
  "language_info": {
   "codemirror_mode": {
    "name": "ipython",
    "version": 3
   },
   "file_extension": ".py",
   "mimetype": "text/x-python",
   "name": "python",
   "nbconvert_exporter": "python",
   "pygments_lexer": "ipython3",
   "version": "3.11.3"
  }
 },
 "nbformat": 4,
 "nbformat_minor": 5
}
