{
 "cells": [
  {
   "cell_type": "markdown",
   "id": "d393be6c",
   "metadata": {},
   "source": [
    "### 1. Write a program that swaps the values of two variables."
   ]
  },
  {
   "cell_type": "code",
   "execution_count": 1,
   "id": "cbcadea0",
   "metadata": {},
   "outputs": [
    {
     "name": "stdout",
     "output_type": "stream",
     "text": [
      "After swapping:\n",
      "Value of a: 10\n",
      "Value of b: 5\n"
     ]
    }
   ],
   "source": [
    "# Initial values\n",
    "a = 5\n",
    "b = 10\n",
    "\n",
    "# Swapping values\n",
    "a, b = b, a\n",
    "\n",
    "# Display the swapped values\n",
    "print(\"After swapping:\")\n",
    "print(\"Value of a:\", a)\n",
    "print(\"Value of b:\", b)\n"
   ]
  },
  {
   "cell_type": "markdown",
   "id": "ae6df9df",
   "metadata": {},
   "source": [
    "### 2. Write a program that calculates the area of a rectangle given its length and width."
   ]
  },
  {
   "cell_type": "code",
   "execution_count": 2,
   "id": "9e6272b0",
   "metadata": {},
   "outputs": [
    {
     "name": "stdout",
     "output_type": "stream",
     "text": [
      "Enter the length of the rectangle: 2.5\n",
      "Enter the width of the rectangle: 3.5\n",
      "The area of the rectangle is: 8.75\n"
     ]
    }
   ],
   "source": [
    "# Prompt the user to enter the length and width \n",
    "length = float(input(\"Enter the length of the rectangle: \"))\n",
    "width = float(input(\"Enter the width of the rectangle: \"))\n",
    "\n",
    "# Calculate the area of the rectangle\n",
    "area = length * width\n",
    "\n",
    "# Display the area\n",
    "print(\"The area of the rectangle is:\", area)\n"
   ]
  },
  {
   "cell_type": "markdown",
   "id": "fa6d04ac",
   "metadata": {},
   "source": [
    "### 3. Write a program that converts temperature from Fahrenheit to Celsius."
   ]
  },
  {
   "cell_type": "code",
   "execution_count": 3,
   "id": "074a4b04",
   "metadata": {},
   "outputs": [
    {
     "name": "stdout",
     "output_type": "stream",
     "text": [
      "Enter temperature in Fahrenheit: 89\n",
      "89.0 Fahrenheit is equivalent to 31.666666666666668 Celsius.\n"
     ]
    }
   ],
   "source": [
    "# Prompt the user to enter a temperature in Fahrenheit\n",
    "fahrenheit = float(input(\"Enter temperature in Fahrenheit: \"))\n",
    "\n",
    "# Convert the temperature to Celsius\n",
    "celsius = (fahrenheit - 32) * 5/9\n",
    "\n",
    "# Display the temperature in Celsius\n",
    "print(f\"{fahrenheit} Fahrenheit is equivalent to {celsius} Celsius.\")\n"
   ]
  },
  {
   "cell_type": "markdown",
   "id": "3382176b",
   "metadata": {},
   "source": [
    "### 4. Write a program that calculates the volume of a sphere given its radius."
   ]
  },
  {
   "cell_type": "code",
   "execution_count": 5,
   "id": "acb87377",
   "metadata": {},
   "outputs": [
    {
     "name": "stdout",
     "output_type": "stream",
     "text": [
      "Enter the radius of the sphere: 2.3\n",
      "The volume of the sphere with radius 2.3 is 50.965010421636.\n"
     ]
    }
   ],
   "source": [
    "import math\n",
    "\n",
    "# Prompt the user to enter the radius of the sphere\n",
    "radius = float(input(\"Enter the radius of the sphere: \"))\n",
    "\n",
    "# Calculate the volume of the sphere\n",
    "volume = (4/3) * math.pi * radius ** 3\n",
    "\n",
    "# Display the volume\n",
    "print(f\"The volume of the sphere with radius {radius} is {volume}.\")\n"
   ]
  },
  {
   "cell_type": "markdown",
   "id": "e0a3da5c",
   "metadata": {},
   "source": [
    "### 5. Write a program that finds the average of three numbers."
   ]
  },
  {
   "cell_type": "code",
   "execution_count": 2,
   "id": "69018d8f",
   "metadata": {},
   "outputs": [
    {
     "name": "stdout",
     "output_type": "stream",
     "text": [
      "Enter the first number: 5\n",
      "Enter the second number: 6\n",
      "Enter the third number: 9\n",
      "The average of the numbers 5, 6, and 9 is 6.666666666666667.\n"
     ]
    }
   ],
   "source": [
    "# Prompt the user to enter three numbers\n",
    "num1 = int(input(\"Enter the first number: \"))\n",
    "num2 = int(input(\"Enter the second number: \"))\n",
    "num3 = int(input(\"Enter the third number: \"))\n",
    "\n",
    "# Calculate the average of the numbers\n",
    "average = (num1 + num2 + num3) / 3\n",
    "\n",
    "# Display the average\n",
    "print(f\"The average of the numbers {num1}, {num2}, and {num3} is {average}.\")"
   ]
  },
  {
   "cell_type": "markdown",
   "id": "b66fead6",
   "metadata": {},
   "source": [
    "### 6. Write a program that determines if a number is even or odd."
   ]
  },
  {
   "cell_type": "code",
   "execution_count": 3,
   "id": "646b9701",
   "metadata": {},
   "outputs": [
    {
     "name": "stdout",
     "output_type": "stream",
     "text": [
      "Enter a number: 5\n",
      "5 is odd.\n"
     ]
    }
   ],
   "source": [
    "# Prompt the user to enter a number\n",
    "num = int(input(\"Enter a number: \"))\n",
    "\n",
    "# Check if the number is even or odd\n",
    "if num % 2 == 0:\n",
    "    print(f\"{num} is even.\")\n",
    "else:\n",
    "    print(f\"{num} is odd.\")"
   ]
  },
  {
   "cell_type": "markdown",
   "id": "64fb478b",
   "metadata": {},
   "source": [
    "### 7. Write a program that finds the maximum of three numbers."
   ]
  },
  {
   "cell_type": "code",
   "execution_count": 5,
   "id": "4ce6ce48",
   "metadata": {},
   "outputs": [
    {
     "name": "stdout",
     "output_type": "stream",
     "text": [
      "The maximum number is: 9\n"
     ]
    }
   ],
   "source": [
    "num1 = 6\n",
    "num2 = 9\n",
    "num3 = 3\n",
    "\n",
    "# Find the maximum number\n",
    "max_num = max(num1, num2, num3)\n",
    "\n",
    "# Print the maximum number\n",
    "print(f\"The maximum number is: {max_num}\")"
   ]
  },
  {
   "cell_type": "markdown",
   "id": "56ab883e",
   "metadata": {},
   "source": [
    "### 8. Write a program that determines if a year is a leap year or not."
   ]
  },
  {
   "cell_type": "code",
   "execution_count": 6,
   "id": "eb991e04",
   "metadata": {},
   "outputs": [
    {
     "name": "stdout",
     "output_type": "stream",
     "text": [
      "Enter a year: 2024\n",
      "2024 is a leap year.\n"
     ]
    }
   ],
   "source": [
    "# Prompt the user to enter a year\n",
    "year = int(input(\"Enter a year: \"))\n",
    "\n",
    "# Check if the year is a leap year\n",
    "if (year % 4 == 0 and year % 100 != 0) or (year % 400 == 0):\n",
    "    print(f\"{year} is a leap year.\")\n",
    "else:\n",
    "    print(f\"{year} is not a leap year.\")\n"
   ]
  },
  {
   "cell_type": "markdown",
   "id": "bda168cd",
   "metadata": {},
   "source": [
    "### 9. Write a program that determines if a number is positive, negative, or zero."
   ]
  },
  {
   "cell_type": "code",
   "execution_count": 8,
   "id": "e0e72288",
   "metadata": {},
   "outputs": [
    {
     "name": "stdout",
     "output_type": "stream",
     "text": [
      "Enter a number: -9\n",
      "The number is negative.\n"
     ]
    }
   ],
   "source": [
    "# Prompt the user to enter a number\n",
    "num = float(input(\"Enter a number: \"))\n",
    "\n",
    "# Check if the number is positive, negative, or zero\n",
    "if num > 0:\n",
    "    print(\"The number is positive.\")\n",
    "elif num < 0:\n",
    "    print(\"The number is negative.\")\n",
    "else:\n",
    "    print(\"The number is zero.\")"
   ]
  },
  {
   "cell_type": "markdown",
   "id": "524579a3",
   "metadata": {},
   "source": [
    "### 10. Write a program that calculates the grade based on a given percentage."
   ]
  },
  {
   "cell_type": "code",
   "execution_count": 9,
   "id": "1a0d20aa",
   "metadata": {},
   "outputs": [
    {
     "name": "stdout",
     "output_type": "stream",
     "text": [
      "Enter the percentage: 65\n",
      "The grade for 65% is: D\n"
     ]
    }
   ],
   "source": [
    "# Prompt the user to enter the percentage\n",
    "percentage = int(input(\"Enter the percentage: \"))\n",
    "\n",
    "# Determine the grade based on the percentage\n",
    "if percentage >= 90:\n",
    "    grade = \"A\"\n",
    "elif percentage >= 80:\n",
    "    grade = \"B\"\n",
    "elif percentage >= 70:\n",
    "    grade = \"C\"\n",
    "elif percentage >= 60:\n",
    "    grade = \"D\"\n",
    "elif percentage >= 0:\n",
    "    grade = \"F\"\n",
    "else:\n",
    "    grade = None\n",
    "\n",
    "# Display the grade\n",
    "if grade:\n",
    "    print(f\"The grade for {percentage}% is: {grade}\")\n",
    "else:\n",
    "    print(\"Invalid percentage entered. Please enter a percentage between 0 and 100.\")\n"
   ]
  },
  {
   "cell_type": "markdown",
   "id": "4b1e5095",
   "metadata": {},
   "source": [
    "### 11. Write a program that prints the first `n` natural numbers."
   ]
  },
  {
   "cell_type": "code",
   "execution_count": 10,
   "id": "f5ce3d65",
   "metadata": {},
   "outputs": [
    {
     "name": "stdout",
     "output_type": "stream",
     "text": [
      "Enter the value of n: 9\n",
      "The first 9 natural numbers are:\n",
      "1 2 3 4 5 6 7 8 9 "
     ]
    }
   ],
   "source": [
    "# Prompt the user to enter the value of n\n",
    "n = int(input(\"Enter the value of n: \"))\n",
    "\n",
    "# Print the first n natural numbers\n",
    "print(\"The first\", n, \"natural numbers are:\")\n",
    "for i in range(1, n + 1):\n",
    "    print(i, end=\" \")"
   ]
  },
  {
   "cell_type": "markdown",
   "id": "85c12ab5",
   "metadata": {},
   "source": [
    "### 12. Write a program that calculates the factorial of a number."
   ]
  },
  {
   "cell_type": "code",
   "execution_count": 11,
   "id": "9846ddeb",
   "metadata": {},
   "outputs": [
    {
     "name": "stdout",
     "output_type": "stream",
     "text": [
      "Enter a number: 5\n",
      "The factorial of 5 is: 120\n"
     ]
    }
   ],
   "source": [
    "# Function to calculate factorial\n",
    "def factorial(n):\n",
    "    if n == 0:\n",
    "        return 1\n",
    "    else:\n",
    "        return n * factorial(n - 1)\n",
    "\n",
    "# Prompt the user to enter a number\n",
    "num = int(input(\"Enter a number: \"))\n",
    "\n",
    "# Check if the number is non-negative\n",
    "if num < 0:\n",
    "    print(\"Factorial is not defined for negative numbers.\")\n",
    "else:\n",
    "    # Calculate and display the factorial\n",
    "    result = factorial(num)\n",
    "    print(f\"The factorial of {num} is: {result}\")"
   ]
  },
  {
   "cell_type": "markdown",
   "id": "71c073e8",
   "metadata": {},
   "source": [
    "### 13. Write a program that generates a Fibonacci sequence of length `n`."
   ]
  },
  {
   "cell_type": "code",
   "execution_count": 12,
   "id": "97fc5042",
   "metadata": {},
   "outputs": [
    {
     "name": "stdout",
     "output_type": "stream",
     "text": [
      "Enter the length of the Fibonacci sequence: 8\n",
      "The Fibonacci sequence of length 8 is: [0, 1, 1, 2, 3, 5, 8, 13]\n"
     ]
    }
   ],
   "source": [
    "# Prompt the user to enter the length of the Fibonacci sequence\n",
    "n = int(input(\"Enter the length of the Fibonacci sequence: \"))\n",
    "\n",
    "# Initialize variables to store the first two numbers in the sequence\n",
    "a, b = 0, 1\n",
    "\n",
    "# Initialize an empty list to store the Fibonacci sequence\n",
    "fibonacci_sequence = []\n",
    "\n",
    "# Generate the Fibonacci sequence\n",
    "for _ in range(n):\n",
    "    fibonacci_sequence.append(a)\n",
    "    a, b = b, a + b\n",
    "\n",
    "# Display the Fibonacci sequence\n",
    "print(\"The Fibonacci sequence of length\", n, \"is:\", fibonacci_sequence)"
   ]
  },
  {
   "cell_type": "markdown",
   "id": "6d658a31",
   "metadata": {},
   "source": [
    "### 14. Write a program that checks if a given number is prime or not."
   ]
  },
  {
   "cell_type": "code",
   "execution_count": 16,
   "id": "1adfe2fc",
   "metadata": {},
   "outputs": [
    {
     "name": "stdout",
     "output_type": "stream",
     "text": [
      "Enter a number: 4\n",
      "4 is not a prime number.\n"
     ]
    }
   ],
   "source": [
    "# Prompt the user to enter a number\n",
    "num = int(input(\"Enter a number: \"))\n",
    "\n",
    "# Check if the number is prime\n",
    "if num > 1:\n",
    "    for i in range(2, int(num ** 0.5) + 1):\n",
    "        if num % i == 0:\n",
    "            print(num, \"is not a prime number.\")\n",
    "            break\n",
    "    else:\n",
    "        print(num, \"is a prime number.\")\n",
    "else:\n",
    "    print(num, \"is not a prime number.\")\n"
   ]
  },
  {
   "cell_type": "markdown",
   "id": "71d8177a",
   "metadata": {},
   "source": [
    "### 15. Write a program that prints the multiplication table of a given number."
   ]
  },
  {
   "cell_type": "code",
   "execution_count": 17,
   "id": "54db4ff5",
   "metadata": {},
   "outputs": [
    {
     "name": "stdout",
     "output_type": "stream",
     "text": [
      "Enter a number: 5\n",
      "Multiplication table of 5:\n",
      "5 x 1 = 5\n",
      "5 x 2 = 10\n",
      "5 x 3 = 15\n",
      "5 x 4 = 20\n",
      "5 x 5 = 25\n",
      "5 x 6 = 30\n",
      "5 x 7 = 35\n",
      "5 x 8 = 40\n",
      "5 x 9 = 45\n",
      "5 x 10 = 50\n"
     ]
    }
   ],
   "source": [
    "# Prompt the user to enter a number\n",
    "num = int(input(\"Enter a number: \"))\n",
    "\n",
    "# Print the multiplication table of the given number\n",
    "print(f\"Multiplication table of {num}:\")\n",
    "for i in range(1, 11):\n",
    "    print(f\"{num} x {i} = {num * i}\")"
   ]
  },
  {
   "cell_type": "markdown",
   "id": "6be6176c",
   "metadata": {},
   "source": [
    "### 16. Write a program that finds the sum of all even numbers between 1 and `n`."
   ]
  },
  {
   "cell_type": "code",
   "execution_count": 19,
   "id": "04b4652a",
   "metadata": {},
   "outputs": [
    {
     "name": "stdout",
     "output_type": "stream",
     "text": [
      "Enter a number: 4\n",
      "The sum of even numbers between 1 and 4 is: 6\n"
     ]
    }
   ],
   "source": [
    "# Prompt the user to enter a number\n",
    "n = int(input(\"Enter a number: \"))\n",
    "\n",
    "# Initialize a variable to store the sum of even numbers\n",
    "sum_even = 0\n",
    "\n",
    "# Calculate the sum of even numbers between 1 and n\n",
    "for num in range(2, n + 1, 2):\n",
    "    sum_even += num\n",
    "\n",
    "# Display the sum of even numbers\n",
    "print(\"The sum of even numbers between 1 and\", n, \"is:\", sum_even)"
   ]
  },
  {
   "cell_type": "markdown",
   "id": "d81b75ea",
   "metadata": {},
   "source": [
    "### 17. Write a program that reverses a given number."
   ]
  },
  {
   "cell_type": "code",
   "execution_count": 23,
   "id": "fc03c983",
   "metadata": {},
   "outputs": [
    {
     "name": "stdout",
     "output_type": "stream",
     "text": [
      "Enter a number: 56\n",
      "The reversed number is: 65\n"
     ]
    }
   ],
   "source": [
    "# Prompt the user to enter a number\n",
    "num = int(input(\"Enter a number: \"))\n",
    "\n",
    "# Initialize a variable to store the reversed number\n",
    "reversed_num = 0\n",
    "\n",
    "# Reverse the given number\n",
    "while num > 0:\n",
    "    digit = num % 10\n",
    "    reversed_num = reversed_num * 10 + digit\n",
    "    num //= 10\n",
    "\n",
    "# Display the reversed number\n",
    "print(\"The reversed number is:\", reversed_num)"
   ]
  },
  {
   "cell_type": "code",
   "execution_count": 24,
   "id": "3f68d98c",
   "metadata": {},
   "outputs": [
    {
     "name": "stdout",
     "output_type": "stream",
     "text": [
      "Enter a number: 13\n",
      "The reversed number is: 31\n"
     ]
    }
   ],
   "source": [
    "# Prompt the user to enter a number\n",
    "num = int(input(\"Enter a number: \"))\n",
    "\n",
    "# Convert the number to a string, reverse it, and then convert it back to an integer\n",
    "reversed_num = int(str(num)[::-1])\n",
    "\n",
    "# Display the reversed number\n",
    "print(\"The reversed number is:\", reversed_num)"
   ]
  },
  {
   "cell_type": "markdown",
   "id": "56f36caf",
   "metadata": {},
   "source": [
    "### 18. Write a program that checks if a given string, is a palindrome."
   ]
  },
  {
   "cell_type": "code",
   "execution_count": 27,
   "id": "094496f1",
   "metadata": {},
   "outputs": [
    {
     "name": "stdout",
     "output_type": "stream",
     "text": [
      "Enter a string: eye\n",
      "The string 'eye' is a palindrome.\n"
     ]
    }
   ],
   "source": [
    "# Prompt the user to enter a string\n",
    "string = input(\"Enter a string: \")\n",
    "\n",
    "# Remove non-alphanumeric characters and convert to lowercase\n",
    "cleaned_string = ''.join(char.lower() for char in string if char.isalnum())\n",
    "\n",
    "# Check if the cleaned string is equal to its reverse\n",
    "if cleaned_string == cleaned_string[::-1]:\n",
    "    print(f\"The string '{string}' is a palindrome.\")\n",
    "else:\n",
    "    print(f\"The string '{string}' is not a palindrome.\")"
   ]
  },
  {
   "cell_type": "markdown",
   "id": "5911f05b",
   "metadata": {},
   "source": [
    "### 19. Write a program that generates a random number and allows the user to guess it."
   ]
  },
  {
   "cell_type": "code",
   "execution_count": 28,
   "id": "52be82ec",
   "metadata": {},
   "outputs": [
    {
     "name": "stdout",
     "output_type": "stream",
     "text": [
      "Guess the number between 1 and 100.\n",
      "Enter your guess: 99\n",
      "Try again! The number is lower.\n",
      "Enter your guess: 89\n",
      "Try again! The number is lower.\n",
      "Enter your guess: 54\n",
      "Try again! The number is lower.\n"
     ]
    },
    {
     "ename": "KeyboardInterrupt",
     "evalue": "Interrupted by user",
     "output_type": "error",
     "traceback": [
      "\u001b[1;31m---------------------------------------------------------------------------\u001b[0m",
      "\u001b[1;31mKeyboardInterrupt\u001b[0m                         Traceback (most recent call last)",
      "Cell \u001b[1;32mIn[28], line 9\u001b[0m\n\u001b[0;32m      7\u001b[0m \u001b[38;5;28mprint\u001b[39m(\u001b[38;5;124m\"\u001b[39m\u001b[38;5;124mGuess the number between 1 and 100.\u001b[39m\u001b[38;5;124m\"\u001b[39m)\n\u001b[0;32m      8\u001b[0m \u001b[38;5;28;01mwhile\u001b[39;00m \u001b[38;5;28;01mTrue\u001b[39;00m:\n\u001b[1;32m----> 9\u001b[0m     guess \u001b[38;5;241m=\u001b[39m \u001b[38;5;28mint\u001b[39m(\u001b[38;5;28minput\u001b[39m(\u001b[38;5;124m\"\u001b[39m\u001b[38;5;124mEnter your guess: \u001b[39m\u001b[38;5;124m\"\u001b[39m))\n\u001b[0;32m     10\u001b[0m     \u001b[38;5;66;03m# Check if the guess is correct\u001b[39;00m\n\u001b[0;32m     11\u001b[0m     \u001b[38;5;28;01mif\u001b[39;00m guess \u001b[38;5;241m==\u001b[39m random_number:\n",
      "File \u001b[1;32mC:\\ProgramData\\anaconda3\\Lib\\site-packages\\ipykernel\\kernelbase.py:1175\u001b[0m, in \u001b[0;36mKernel.raw_input\u001b[1;34m(self, prompt)\u001b[0m\n\u001b[0;32m   1171\u001b[0m \u001b[38;5;28;01mif\u001b[39;00m \u001b[38;5;129;01mnot\u001b[39;00m \u001b[38;5;28mself\u001b[39m\u001b[38;5;241m.\u001b[39m_allow_stdin:\n\u001b[0;32m   1172\u001b[0m     \u001b[38;5;28;01mraise\u001b[39;00m StdinNotImplementedError(\n\u001b[0;32m   1173\u001b[0m         \u001b[38;5;124m\"\u001b[39m\u001b[38;5;124mraw_input was called, but this frontend does not support input requests.\u001b[39m\u001b[38;5;124m\"\u001b[39m\n\u001b[0;32m   1174\u001b[0m     )\n\u001b[1;32m-> 1175\u001b[0m \u001b[38;5;28;01mreturn\u001b[39;00m \u001b[38;5;28mself\u001b[39m\u001b[38;5;241m.\u001b[39m_input_request(\n\u001b[0;32m   1176\u001b[0m     \u001b[38;5;28mstr\u001b[39m(prompt),\n\u001b[0;32m   1177\u001b[0m     \u001b[38;5;28mself\u001b[39m\u001b[38;5;241m.\u001b[39m_parent_ident[\u001b[38;5;124m\"\u001b[39m\u001b[38;5;124mshell\u001b[39m\u001b[38;5;124m\"\u001b[39m],\n\u001b[0;32m   1178\u001b[0m     \u001b[38;5;28mself\u001b[39m\u001b[38;5;241m.\u001b[39mget_parent(\u001b[38;5;124m\"\u001b[39m\u001b[38;5;124mshell\u001b[39m\u001b[38;5;124m\"\u001b[39m),\n\u001b[0;32m   1179\u001b[0m     password\u001b[38;5;241m=\u001b[39m\u001b[38;5;28;01mFalse\u001b[39;00m,\n\u001b[0;32m   1180\u001b[0m )\n",
      "File \u001b[1;32mC:\\ProgramData\\anaconda3\\Lib\\site-packages\\ipykernel\\kernelbase.py:1217\u001b[0m, in \u001b[0;36mKernel._input_request\u001b[1;34m(self, prompt, ident, parent, password)\u001b[0m\n\u001b[0;32m   1214\u001b[0m             \u001b[38;5;28;01mbreak\u001b[39;00m\n\u001b[0;32m   1215\u001b[0m \u001b[38;5;28;01mexcept\u001b[39;00m \u001b[38;5;167;01mKeyboardInterrupt\u001b[39;00m:\n\u001b[0;32m   1216\u001b[0m     \u001b[38;5;66;03m# re-raise KeyboardInterrupt, to truncate traceback\u001b[39;00m\n\u001b[1;32m-> 1217\u001b[0m     \u001b[38;5;28;01mraise\u001b[39;00m \u001b[38;5;167;01mKeyboardInterrupt\u001b[39;00m(\u001b[38;5;124m\"\u001b[39m\u001b[38;5;124mInterrupted by user\u001b[39m\u001b[38;5;124m\"\u001b[39m) \u001b[38;5;28;01mfrom\u001b[39;00m \u001b[38;5;28;01mNone\u001b[39;00m\n\u001b[0;32m   1218\u001b[0m \u001b[38;5;28;01mexcept\u001b[39;00m \u001b[38;5;167;01mException\u001b[39;00m:\n\u001b[0;32m   1219\u001b[0m     \u001b[38;5;28mself\u001b[39m\u001b[38;5;241m.\u001b[39mlog\u001b[38;5;241m.\u001b[39mwarning(\u001b[38;5;124m\"\u001b[39m\u001b[38;5;124mInvalid Message:\u001b[39m\u001b[38;5;124m\"\u001b[39m, exc_info\u001b[38;5;241m=\u001b[39m\u001b[38;5;28;01mTrue\u001b[39;00m)\n",
      "\u001b[1;31mKeyboardInterrupt\u001b[0m: Interrupted by user"
     ]
    }
   ],
   "source": [
    "import random\n",
    "\n",
    "# Generate a random number between 1 and 100\n",
    "random_number = random.randint(1, 100)\n",
    "\n",
    "# Prompt the user to guess the number\n",
    "print(\"Guess the number between 1 and 100.\")\n",
    "while True:\n",
    "    guess = int(input(\"Enter your guess: \"))\n",
    "    # Check if the guess is correct\n",
    "    if guess == random_number:\n",
    "        print(\"Congratulations! You guessed the number correctly.\")\n",
    "        break\n",
    "    elif guess < random_number:\n",
    "        print(\"Try again! The number is higher.\")\n",
    "    else:\n",
    "        print(\"Try again! The number is lower.\")"
   ]
  },
  {
   "cell_type": "markdown",
   "id": "3d34b7fd",
   "metadata": {},
   "source": [
    "### 20. Write a program that finds the greatest common divisor (GCD) of two numbers."
   ]
  },
  {
   "cell_type": "code",
   "execution_count": 30,
   "id": "2c9615f5",
   "metadata": {},
   "outputs": [
    {
     "name": "stdout",
     "output_type": "stream",
     "text": [
      "Enter the first number: 5\n",
      "Enter the second number: 25\n",
      "The greatest common divisor (GCD) of 5 and 25 is: 5\n"
     ]
    }
   ],
   "source": [
    "# Prompt the user to enter two numbers\n",
    "num1 = int(input(\"Enter the first number: \"))\n",
    "num2 = int(input(\"Enter the second number: \"))\n",
    "\n",
    "# Find the minimum of the two numbers\n",
    "min_num = min(num1, num2)\n",
    "\n",
    "# Initialize the GCD variable to store the greatest common divisor\n",
    "gcd = 1\n",
    "\n",
    "# Iterate from 1 to the minimum of the two numbers\n",
    "for i in range(1, min_num + 1):\n",
    "    # Check if both numbers are divisible by the current number\n",
    "    if num1 % i == 0 and num2 % i == 0:\n",
    "        gcd = i  # Update the GCD variable if the current number is a common divisor\n",
    "\n",
    "# Display the GCD\n",
    "print(f\"The greatest common divisor (GCD) of {num1} and {num2} is:\", gcd)"
   ]
  },
  {
   "cell_type": "code",
   "execution_count": null,
   "id": "af24502f",
   "metadata": {},
   "outputs": [],
   "source": []
  }
 ],
 "metadata": {
  "kernelspec": {
   "display_name": "Python 3 (ipykernel)",
   "language": "python",
   "name": "python3"
  },
  "language_info": {
   "codemirror_mode": {
    "name": "ipython",
    "version": 3
   },
   "file_extension": ".py",
   "mimetype": "text/x-python",
   "name": "python",
   "nbconvert_exporter": "python",
   "pygments_lexer": "ipython3",
   "version": "3.11.3"
  }
 },
 "nbformat": 4,
 "nbformat_minor": 5
}
